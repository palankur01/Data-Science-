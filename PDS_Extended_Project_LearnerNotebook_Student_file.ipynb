{
  "nbformat": 4,
  "nbformat_minor": 0,
  "metadata": {
    "colab": {
      "provenance": [],
      "collapsed_sections": [
        "PLzkIs_gFpED",
        "bg0sij4tF2Z8",
        "ca99bf08",
        "e03f7858",
        "748654c0",
        "de22e627",
        "67d5f43f",
        "2118482d",
        "8cdcd0d8",
        "fcbc392b",
        "GvX-LiQWbWco",
        "c2d12298",
        "4iGkLr8jfwI-",
        "j5RLpxNSf-mO",
        "330511c9",
        "cvnaXouZyr5K",
        "c4870c8c",
        "g5u_MvqAk5qt",
        "da634d63",
        "0def849d",
        "7c9b7ed8",
        "7e5724ab",
        "6112006e",
        "0045b94d",
        "a5ba9c26",
        "8931457f",
        "556c1575"
      ]
    },
    "kernelspec": {
      "name": "python3",
      "display_name": "Python 3"
    },
    "language_info": {
      "name": "python"
    }
  },
  "cells": [
    {
      "cell_type": "markdown",
      "metadata": {
        "id": "3209435a"
      },
      "source": [
        "# Project - Statistical Methods For Decision Making"
      ]
    },
    {
      "cell_type": "markdown",
      "metadata": {
        "id": "ad6977ab"
      },
      "source": [
        "### Marks: 60 points"
      ]
    },
    {
      "cell_type": "markdown",
      "metadata": {
        "id": "b3c206fc"
      },
      "source": [
        "# Problem Statement 1 - Wholesale Customers Analysis"
      ]
    },
    {
      "cell_type": "markdown",
      "source": [
        "### Business Context"
      ],
      "metadata": {
        "id": "PLzkIs_gFpED"
      }
    },
    {
      "cell_type": "markdown",
      "metadata": {
        "id": "fe64842f"
      },
      "source": [
        "A wholesale distributor operating in different regions of Portugal has information on annual spending of several items in their stores across different regions and channels. The data consists of 440 large retailers’ annual spending on 6 different varieties of productsin 3 different regions (Lisbon, Oporto, Other) and across different sales channel (Hotel, Retail)."
      ]
    },
    {
      "cell_type": "markdown",
      "source": [
        "### Objective"
      ],
      "metadata": {
        "id": "bg0sij4tF2Z8"
      }
    },
    {
      "cell_type": "markdown",
      "source": [
        "They want to analyze the data to get a fair idea about the demand of different restaurants which will help them in enhancing their customer experience. Suppose you are a Data Scientist at Foodhub and the Data Science team has shared some of the key questions that need to be answered. Perform the data analysis to find answers to these questions that will help the company to improve the business."
      ],
      "metadata": {
        "id": "iDrxiKqBF7dw"
      }
    },
    {
      "cell_type": "markdown",
      "metadata": {
        "id": "ca99bf08"
      },
      "source": [
        "### Data Description"
      ]
    },
    {
      "cell_type": "markdown",
      "metadata": {
        "id": "1e35834f"
      },
      "source": [
        "\n",
        "\n",
        "1. Buyer/Spender- ID's of customers\n",
        "2. Region- Region of the distributor\n",
        "3. Fresh- spending on Fresh Vegetables\n",
        "4. Milk- spending on milk\n",
        "5. Grocery- spending on grocery\n",
        "6. Frozen- spending on frozen food\n",
        "7. Detergents_paper- spending on detergents and toilet paper\n",
        "8. Delicatessen- spending on instant foods\n",
        "\n",
        "\n",
        "\n"
      ]
    },
    {
      "cell_type": "markdown",
      "metadata": {
        "id": "e03f7858"
      },
      "source": [
        "## Let us start by importing the required libraries"
      ]
    },
    {
      "cell_type": "code",
      "execution_count": null,
      "metadata": {
        "id": "498db9fa"
      },
      "outputs": [],
      "source": [
        "import pandas as pd\n",
        "import numpy as np\n",
        "\n",
        "import matplotlib.pyplot as plt\n",
        "%matplotlib inline\n",
        "import seaborn as sns\n",
        "\n",
        "from scipy import stats as st\n",
        "from scipy.stats import iqr #To calculate the IQR - Interquartile Range\n",
        "import statistics as stat # To calculate the MODE\n",
        "from statistics import stdev # To calculate the standard deviation\n",
        "import warnings\n",
        "warnings.filterwarnings(\"ignore\")"
      ]
    },
    {
      "cell_type": "markdown",
      "metadata": {
        "id": "748654c0"
      },
      "source": [
        "## Loading the data"
      ]
    },
    {
      "cell_type": "code",
      "execution_count": null,
      "metadata": {
        "id": "530ea96c"
      },
      "outputs": [],
      "source": [
        "# Read the data\n",
        "df = pd.read_csv('_______') ## Fill the blank to read the data"
      ]
    },
    {
      "cell_type": "code",
      "source": [
        "# Returns the first 5 rows\n",
        "df.head()"
      ],
      "metadata": {
        "colab": {
          "base_uri": "https://localhost:8080/",
          "height": 206
        },
        "id": "uF_QoF6WKoiS",
        "outputId": "5bef0d84-8aa7-499a-a674-af24e1787691"
      },
      "execution_count": null,
      "outputs": [
        {
          "output_type": "execute_result",
          "data": {
            "text/plain": [
              "   Buyer/Spender Channel Region  Fresh  Milk  Grocery  Frozen  \\\n",
              "0              1  Retail  Other  12669  9656     7561     214   \n",
              "1              2  Retail  Other   7057  9810     9568    1762   \n",
              "2              3  Retail  Other   6353  8808     7684    2405   \n",
              "3              4   Hotel  Other  13265  1196     4221    6404   \n",
              "4              5  Retail  Other  22615  5410     7198    3915   \n",
              "\n",
              "   Detergents_Paper  Delicatessen  \n",
              "0              2674          1338  \n",
              "1              3293          1776  \n",
              "2              3516          7844  \n",
              "3               507          1788  \n",
              "4              1777          5185  "
            ],
            "text/html": [
              "\n",
              "  <div id=\"df-b6c0dbfd-9c7f-4eb6-aba8-015385fecf6d\">\n",
              "    <div class=\"colab-df-container\">\n",
              "      <div>\n",
              "<style scoped>\n",
              "    .dataframe tbody tr th:only-of-type {\n",
              "        vertical-align: middle;\n",
              "    }\n",
              "\n",
              "    .dataframe tbody tr th {\n",
              "        vertical-align: top;\n",
              "    }\n",
              "\n",
              "    .dataframe thead th {\n",
              "        text-align: right;\n",
              "    }\n",
              "</style>\n",
              "<table border=\"1\" class=\"dataframe\">\n",
              "  <thead>\n",
              "    <tr style=\"text-align: right;\">\n",
              "      <th></th>\n",
              "      <th>Buyer/Spender</th>\n",
              "      <th>Channel</th>\n",
              "      <th>Region</th>\n",
              "      <th>Fresh</th>\n",
              "      <th>Milk</th>\n",
              "      <th>Grocery</th>\n",
              "      <th>Frozen</th>\n",
              "      <th>Detergents_Paper</th>\n",
              "      <th>Delicatessen</th>\n",
              "    </tr>\n",
              "  </thead>\n",
              "  <tbody>\n",
              "    <tr>\n",
              "      <th>0</th>\n",
              "      <td>1</td>\n",
              "      <td>Retail</td>\n",
              "      <td>Other</td>\n",
              "      <td>12669</td>\n",
              "      <td>9656</td>\n",
              "      <td>7561</td>\n",
              "      <td>214</td>\n",
              "      <td>2674</td>\n",
              "      <td>1338</td>\n",
              "    </tr>\n",
              "    <tr>\n",
              "      <th>1</th>\n",
              "      <td>2</td>\n",
              "      <td>Retail</td>\n",
              "      <td>Other</td>\n",
              "      <td>7057</td>\n",
              "      <td>9810</td>\n",
              "      <td>9568</td>\n",
              "      <td>1762</td>\n",
              "      <td>3293</td>\n",
              "      <td>1776</td>\n",
              "    </tr>\n",
              "    <tr>\n",
              "      <th>2</th>\n",
              "      <td>3</td>\n",
              "      <td>Retail</td>\n",
              "      <td>Other</td>\n",
              "      <td>6353</td>\n",
              "      <td>8808</td>\n",
              "      <td>7684</td>\n",
              "      <td>2405</td>\n",
              "      <td>3516</td>\n",
              "      <td>7844</td>\n",
              "    </tr>\n",
              "    <tr>\n",
              "      <th>3</th>\n",
              "      <td>4</td>\n",
              "      <td>Hotel</td>\n",
              "      <td>Other</td>\n",
              "      <td>13265</td>\n",
              "      <td>1196</td>\n",
              "      <td>4221</td>\n",
              "      <td>6404</td>\n",
              "      <td>507</td>\n",
              "      <td>1788</td>\n",
              "    </tr>\n",
              "    <tr>\n",
              "      <th>4</th>\n",
              "      <td>5</td>\n",
              "      <td>Retail</td>\n",
              "      <td>Other</td>\n",
              "      <td>22615</td>\n",
              "      <td>5410</td>\n",
              "      <td>7198</td>\n",
              "      <td>3915</td>\n",
              "      <td>1777</td>\n",
              "      <td>5185</td>\n",
              "    </tr>\n",
              "  </tbody>\n",
              "</table>\n",
              "</div>\n",
              "      <button class=\"colab-df-convert\" onclick=\"convertToInteractive('df-b6c0dbfd-9c7f-4eb6-aba8-015385fecf6d')\"\n",
              "              title=\"Convert this dataframe to an interactive table.\"\n",
              "              style=\"display:none;\">\n",
              "        \n",
              "  <svg xmlns=\"http://www.w3.org/2000/svg\" height=\"24px\"viewBox=\"0 0 24 24\"\n",
              "       width=\"24px\">\n",
              "    <path d=\"M0 0h24v24H0V0z\" fill=\"none\"/>\n",
              "    <path d=\"M18.56 5.44l.94 2.06.94-2.06 2.06-.94-2.06-.94-.94-2.06-.94 2.06-2.06.94zm-11 1L8.5 8.5l.94-2.06 2.06-.94-2.06-.94L8.5 2.5l-.94 2.06-2.06.94zm10 10l.94 2.06.94-2.06 2.06-.94-2.06-.94-.94-2.06-.94 2.06-2.06.94z\"/><path d=\"M17.41 7.96l-1.37-1.37c-.4-.4-.92-.59-1.43-.59-.52 0-1.04.2-1.43.59L10.3 9.45l-7.72 7.72c-.78.78-.78 2.05 0 2.83L4 21.41c.39.39.9.59 1.41.59.51 0 1.02-.2 1.41-.59l7.78-7.78 2.81-2.81c.8-.78.8-2.07 0-2.86zM5.41 20L4 18.59l7.72-7.72 1.47 1.35L5.41 20z\"/>\n",
              "  </svg>\n",
              "      </button>\n",
              "      \n",
              "  <style>\n",
              "    .colab-df-container {\n",
              "      display:flex;\n",
              "      flex-wrap:wrap;\n",
              "      gap: 12px;\n",
              "    }\n",
              "\n",
              "    .colab-df-convert {\n",
              "      background-color: #E8F0FE;\n",
              "      border: none;\n",
              "      border-radius: 50%;\n",
              "      cursor: pointer;\n",
              "      display: none;\n",
              "      fill: #1967D2;\n",
              "      height: 32px;\n",
              "      padding: 0 0 0 0;\n",
              "      width: 32px;\n",
              "    }\n",
              "\n",
              "    .colab-df-convert:hover {\n",
              "      background-color: #E2EBFA;\n",
              "      box-shadow: 0px 1px 2px rgba(60, 64, 67, 0.3), 0px 1px 3px 1px rgba(60, 64, 67, 0.15);\n",
              "      fill: #174EA6;\n",
              "    }\n",
              "\n",
              "    [theme=dark] .colab-df-convert {\n",
              "      background-color: #3B4455;\n",
              "      fill: #D2E3FC;\n",
              "    }\n",
              "\n",
              "    [theme=dark] .colab-df-convert:hover {\n",
              "      background-color: #434B5C;\n",
              "      box-shadow: 0px 1px 3px 1px rgba(0, 0, 0, 0.15);\n",
              "      filter: drop-shadow(0px 1px 2px rgba(0, 0, 0, 0.3));\n",
              "      fill: #FFFFFF;\n",
              "    }\n",
              "  </style>\n",
              "\n",
              "      <script>\n",
              "        const buttonEl =\n",
              "          document.querySelector('#df-b6c0dbfd-9c7f-4eb6-aba8-015385fecf6d button.colab-df-convert');\n",
              "        buttonEl.style.display =\n",
              "          google.colab.kernel.accessAllowed ? 'block' : 'none';\n",
              "\n",
              "        async function convertToInteractive(key) {\n",
              "          const element = document.querySelector('#df-b6c0dbfd-9c7f-4eb6-aba8-015385fecf6d');\n",
              "          const dataTable =\n",
              "            await google.colab.kernel.invokeFunction('convertToInteractive',\n",
              "                                                     [key], {});\n",
              "          if (!dataTable) return;\n",
              "\n",
              "          const docLinkHtml = 'Like what you see? Visit the ' +\n",
              "            '<a target=\"_blank\" href=https://colab.research.google.com/notebooks/data_table.ipynb>data table notebook</a>'\n",
              "            + ' to learn more about interactive tables.';\n",
              "          element.innerHTML = '';\n",
              "          dataTable['output_type'] = 'display_data';\n",
              "          await google.colab.output.renderOutput(dataTable, element);\n",
              "          const docLink = document.createElement('div');\n",
              "          docLink.innerHTML = docLinkHtml;\n",
              "          element.appendChild(docLink);\n",
              "        }\n",
              "      </script>\n",
              "    </div>\n",
              "  </div>\n",
              "  "
            ]
          },
          "metadata": {},
          "execution_count": 4
        }
      ]
    },
    {
      "cell_type": "markdown",
      "source": [
        "## Data Overview"
      ],
      "metadata": {
        "id": "lhK1oXdGLxNc"
      }
    },
    {
      "cell_type": "markdown",
      "metadata": {
        "id": "de22e627"
      },
      "source": [
        "#### How many rows and columns are present in the data?"
      ]
    },
    {
      "cell_type": "code",
      "execution_count": null,
      "metadata": {
        "id": "acc684cd"
      },
      "outputs": [],
      "source": [
        "# Check the shape of the dataset\n",
        "df._______ ## Fill in the blank"
      ]
    },
    {
      "cell_type": "markdown",
      "metadata": {
        "id": "67d5f43f"
      },
      "source": [
        "####  What are the datatypes of the different columns in the dataset?"
      ]
    },
    {
      "cell_type": "code",
      "execution_count": null,
      "metadata": {
        "id": "6b83abe1"
      },
      "outputs": [],
      "source": [
        "# Check the datatypes\n",
        "df.'____' #Write an appropriate function to check teh data type of each column"
      ]
    },
    {
      "cell_type": "markdown",
      "metadata": {
        "id": "2118482d"
      },
      "source": [
        "#### Are there any missing values in the data?"
      ]
    },
    {
      "cell_type": "code",
      "execution_count": null,
      "metadata": {
        "id": "fe28278f"
      },
      "outputs": [],
      "source": [
        "# Checking for missing values in the data\n",
        "df.'______'  #Write the appropriate function to print the sum of null values for each column"
      ]
    },
    {
      "cell_type": "markdown",
      "metadata": {
        "id": "8cdcd0d8"
      },
      "source": [
        "#### Check the statistical summary of the data."
      ]
    },
    {
      "cell_type": "code",
      "execution_count": null,
      "metadata": {
        "id": "acac9547"
      },
      "outputs": [],
      "source": [
        "# Get the summary statistics of the numerical data\n",
        "df.'_______' ## Write the appropriate function to print the statistical summary of the data (Hint - you have seen this in the case studies before)"
      ]
    },
    {
      "cell_type": "markdown",
      "metadata": {
        "id": "52d74865"
      },
      "source": [
        "## Exploratory Data Analysis (EDA)"
      ]
    },
    {
      "cell_type": "markdown",
      "source": [
        "### Univariate Analysis"
      ],
      "metadata": {
        "id": "t7JoeDXja5G7"
      }
    },
    {
      "cell_type": "markdown",
      "metadata": {
        "id": "fcbc392b"
      },
      "source": [
        "#### Explore all the categorical variables and provide observations on their frequency."
      ]
    },
    {
      "cell_type": "code",
      "source": [
        "plt.figure(figsize=(8, 8))\n",
        "\n",
        "sns.'______'(data=df, x='Region')  ## Complete the code to plot the graph\n",
        "plt.xlabel('Regions')\n",
        "plt.ylabel('Number of Wholesale Distributors')\n",
        "plt.show()"
      ],
      "metadata": {
        "id": "p1ZQNU7L-AbX"
      },
      "execution_count": null,
      "outputs": []
    },
    {
      "cell_type": "code",
      "source": [
        "plt.figure(figsize=(8, 8))\n",
        "\n",
        "sns.'_______'(data=df, x='Channel')  ## Complete the code to plot the graph\n",
        "plt.xlabel('Channel')\n",
        "plt.ylabel('Number of Wholesale Distributors')\n",
        "plt.show()"
      ],
      "metadata": {
        "id": "md-lpKyp-Tfv"
      },
      "execution_count": null,
      "outputs": []
    },
    {
      "cell_type": "markdown",
      "source": [
        "#### Find the distribution of spending across all categories"
      ],
      "metadata": {
        "id": "GvX-LiQWbWco"
      }
    },
    {
      "cell_type": "code",
      "source": [
        "import matplotlib.pyplot as plt\n",
        "\n",
        "cols = ['Fresh', 'Milk', 'Grocery', 'Frozen', 'Detergents_Paper', 'Delicatessen']\n",
        "fig, axes = plt.subplots(nrows=2, ncols=3, figsize=(18, 10))\n",
        "\n",
        "for i in range(len(cols)):\n",
        "    ax = axes[i // 3, i % 3]\n",
        "    col = cols[i]\n",
        "    ax.'____'(df[col], bins=50, edgecolor='#E6E6E6', color='Purple') ## Complete the code to plot a histogram\n",
        "    ax.set_xlabel(col)\n",
        "    ax.set_ylabel('Count')\n",
        "    ax.set_title(col + \" Histogram\", fontsize=15)\n",
        "\n",
        "plt.tight_layout()\n",
        "plt.show()\n"
      ],
      "metadata": {
        "id": "NF8V0F2TZrRC"
      },
      "execution_count": null,
      "outputs": []
    },
    {
      "cell_type": "markdown",
      "metadata": {
        "id": "c2d12298"
      },
      "source": [
        "#### Are there any outliers in the data?"
      ]
    },
    {
      "cell_type": "code",
      "execution_count": null,
      "metadata": {
        "id": "fc23b088"
      },
      "outputs": [],
      "source": [
        "cols = ['Fresh', 'Milk', 'Grocery', 'Frozen', 'Detergents_Paper', 'Delicatessen']\n",
        "fig, axes = plt.subplots(nrows=2, ncols=3, figsize=(18, 10))\n",
        "\n",
        "for i in range(len(cols)):\n",
        "    ax = axes[i // 3, i % 3]\n",
        "    col = cols[i]\n",
        "    sns.'_______'(data='__', x=col, orient=\"v\", ax=ax) ## Complete the code to create boxplot\n",
        "    ax.set_title(col + \" Boxplot\", fontsize=15)\n",
        "\n",
        "plt.tight_layout()\n",
        "plt.show()\n"
      ]
    },
    {
      "cell_type": "markdown",
      "source": [
        "### Multivariate Analysis"
      ],
      "metadata": {
        "id": "1p2PxEWfbjAy"
      }
    },
    {
      "cell_type": "markdown",
      "source": [
        "**We will create a new column of total of spendings by adding the 6 different varieties.**"
      ],
      "metadata": {
        "id": "twITahnBKNr9"
      }
    },
    {
      "cell_type": "code",
      "execution_count": null,
      "metadata": {
        "id": "d04b78a9"
      },
      "outputs": [],
      "source": [
        "## Adding row totals to the data frame\n",
        "df['Total'] = df.'___'(axis = 1) ## Complete the code to add the column\n",
        "df.head()"
      ]
    },
    {
      "cell_type": "markdown",
      "metadata": {
        "id": "e62b5be1"
      },
      "source": [
        "####  Find the total spending across all regions"
      ]
    },
    {
      "cell_type": "code",
      "execution_count": null,
      "metadata": {
        "id": "aff71ba1"
      },
      "outputs": [],
      "source": [
        "plt.figure(figsize=(8, 8))\n",
        "RegionAggregated = df.groupby(\"____\")[\"Total\"].sum().reset_index() ## Complete the create a temporary dataframe\n",
        "ax=sns.barplot(x=\"____\", y=\"____\", data=RegionAggregated) ## Complete the code to find plot a bar graph\n",
        "ax.bar_label(ax.containers[0])\n",
        "plt.title(\"Total Spending Barplot Region wise\", fontsize=15)\n",
        "plt.show()"
      ]
    },
    {
      "cell_type": "markdown",
      "metadata": {
        "id": "e9634e9f"
      },
      "source": [
        "#### Find the total spending of all the channels"
      ]
    },
    {
      "cell_type": "code",
      "execution_count": null,
      "metadata": {
        "id": "d2d7413e"
      },
      "outputs": [],
      "source": [
        "plt.figure(figsize=(8, 8))\n",
        "## Complete the create a temporary dataframe\n",
        "## Complete the code to find plot a bar graph\n",
        "ax.bar_label(ax.containers[0])\n",
        "plt.title(\"Total Spending Barplot Channel wise\", fontsize=15)\n",
        "plt.show()"
      ]
    },
    {
      "cell_type": "markdown",
      "source": [
        "#### Find the total spending across regions via different channels"
      ],
      "metadata": {
        "id": "4iGkLr8jfwI-"
      }
    },
    {
      "cell_type": "code",
      "source": [
        "plt.figure(figsize=(8, 8))\n",
        "sns.'____'(x='Region', y='Total', hue='____',data=df)\n",
        "plt.title(\"Total Spending Barplot Region wise via different Channels\", fontsize=15)\n",
        "plt.show()"
      ],
      "metadata": {
        "id": "vzb9bU4Tco09"
      },
      "execution_count": null,
      "outputs": []
    },
    {
      "cell_type": "code",
      "execution_count": null,
      "metadata": {
        "id": "61da8ba0"
      },
      "outputs": [],
      "source": [
        "#Now drop the Total column\n",
        "df.drop('____',axis=1, inplace=True) ## Complete the code to drop the column"
      ]
    },
    {
      "cell_type": "markdown",
      "source": [
        "#### Find the total spending on each of the categories across different region and channels"
      ],
      "metadata": {
        "id": "j5RLpxNSf-mO"
      }
    },
    {
      "cell_type": "code",
      "source": [
        "cols = ['Fresh', 'Milk', 'Grocery', 'Frozen', 'Detergents_Paper', 'Delicatessen']\n",
        "fig, axes = plt.subplots(nrows=2, ncols=3, figsize=(18, 10))\n",
        "\n",
        "for i in range(len(cols)):\n",
        "    ax = axes[i // 3, i % 3]\n",
        "    col = cols[i]\n",
        "    sns.'_____'(data=df, x='____',y=col, hue='_____', orient=\"v\", ax=ax)\n",
        "    ax.set_title(col + \" Barplot\", fontsize=15)\n",
        "\n",
        "plt.tight_layout()\n",
        "plt.show()"
      ],
      "metadata": {
        "id": "dNQqEhbud1Xe"
      },
      "execution_count": null,
      "outputs": []
    },
    {
      "cell_type": "markdown",
      "metadata": {
        "id": "330511c9"
      },
      "source": [
        "#### Do the item varieties show similar behavior across region and channel?\n",
        "\n",
        "Hint: There are 6 different varieties of items in the data."
      ]
    },
    {
      "cell_type": "markdown",
      "metadata": {
        "id": "b18e5048"
      },
      "source": [
        "**We will subset the dataset with respect to region and channel.**"
      ]
    },
    {
      "cell_type": "code",
      "execution_count": null,
      "metadata": {
        "id": "d07a3429"
      },
      "outputs": [],
      "source": [
        "# Channel wise data subset\n",
        "Retail = df[df['Channel'] == \"_____\"]  ## Complete the create a temporary dataframe\n",
        "Hotel = df[df['Channel'] == \"_____\"]  ## Complete the create a temporary dataframe"
      ]
    },
    {
      "cell_type": "markdown",
      "metadata": {
        "id": "f2472931"
      },
      "source": [
        "**To check the behaivour of the item varieties, we will check the statistical summary.**"
      ]
    },
    {
      "cell_type": "code",
      "execution_count": null,
      "metadata": {
        "id": "76c93003",
        "colab": {
          "base_uri": "https://localhost:8080/",
          "height": 269
        },
        "outputId": "0b9dbf62-7cbb-4c18-b7dd-da968efd85a4"
      },
      "outputs": [
        {
          "output_type": "execute_result",
          "data": {
            "text/plain": [
              "                  count          mean           std     min      25%      50%  \\\n",
              "Buyer/Spender     142.0    183.000000    132.136132     1.0    61.25    166.5   \n",
              "Fresh             142.0   8904.323944   8987.714750    18.0  2347.75   5993.5   \n",
              "Milk              142.0  10716.500000   9679.631351   928.0  5938.00   7812.0   \n",
              "Grocery           142.0  16322.852113  12267.318094  2743.0  9245.25  12390.0   \n",
              "Frozen            142.0   1652.612676   1812.803662    33.0   534.25   1081.0   \n",
              "Detergents_Paper  142.0   7269.507042   6291.089697   332.0  3683.50   5614.5   \n",
              "Delicatessen      142.0   1753.436620   1953.797047     3.0   566.75   1350.0   \n",
              "\n",
              "                       75%      max  \n",
              "Buyer/Spender       303.75    438.0  \n",
              "Fresh             12229.75  44466.0  \n",
              "Milk              12162.75  73498.0  \n",
              "Grocery           20183.50  92780.0  \n",
              "Frozen             2146.75  11559.0  \n",
              "Detergents_Paper   8662.50  40827.0  \n",
              "Delicatessen       2156.00  16523.0  "
            ],
            "text/html": [
              "\n",
              "  <div id=\"df-98a6469c-e142-43d4-b11a-86a3b6d3c241\">\n",
              "    <div class=\"colab-df-container\">\n",
              "      <div>\n",
              "<style scoped>\n",
              "    .dataframe tbody tr th:only-of-type {\n",
              "        vertical-align: middle;\n",
              "    }\n",
              "\n",
              "    .dataframe tbody tr th {\n",
              "        vertical-align: top;\n",
              "    }\n",
              "\n",
              "    .dataframe thead th {\n",
              "        text-align: right;\n",
              "    }\n",
              "</style>\n",
              "<table border=\"1\" class=\"dataframe\">\n",
              "  <thead>\n",
              "    <tr style=\"text-align: right;\">\n",
              "      <th></th>\n",
              "      <th>count</th>\n",
              "      <th>mean</th>\n",
              "      <th>std</th>\n",
              "      <th>min</th>\n",
              "      <th>25%</th>\n",
              "      <th>50%</th>\n",
              "      <th>75%</th>\n",
              "      <th>max</th>\n",
              "    </tr>\n",
              "  </thead>\n",
              "  <tbody>\n",
              "    <tr>\n",
              "      <th>Buyer/Spender</th>\n",
              "      <td>142.0</td>\n",
              "      <td>183.000000</td>\n",
              "      <td>132.136132</td>\n",
              "      <td>1.0</td>\n",
              "      <td>61.25</td>\n",
              "      <td>166.5</td>\n",
              "      <td>303.75</td>\n",
              "      <td>438.0</td>\n",
              "    </tr>\n",
              "    <tr>\n",
              "      <th>Fresh</th>\n",
              "      <td>142.0</td>\n",
              "      <td>8904.323944</td>\n",
              "      <td>8987.714750</td>\n",
              "      <td>18.0</td>\n",
              "      <td>2347.75</td>\n",
              "      <td>5993.5</td>\n",
              "      <td>12229.75</td>\n",
              "      <td>44466.0</td>\n",
              "    </tr>\n",
              "    <tr>\n",
              "      <th>Milk</th>\n",
              "      <td>142.0</td>\n",
              "      <td>10716.500000</td>\n",
              "      <td>9679.631351</td>\n",
              "      <td>928.0</td>\n",
              "      <td>5938.00</td>\n",
              "      <td>7812.0</td>\n",
              "      <td>12162.75</td>\n",
              "      <td>73498.0</td>\n",
              "    </tr>\n",
              "    <tr>\n",
              "      <th>Grocery</th>\n",
              "      <td>142.0</td>\n",
              "      <td>16322.852113</td>\n",
              "      <td>12267.318094</td>\n",
              "      <td>2743.0</td>\n",
              "      <td>9245.25</td>\n",
              "      <td>12390.0</td>\n",
              "      <td>20183.50</td>\n",
              "      <td>92780.0</td>\n",
              "    </tr>\n",
              "    <tr>\n",
              "      <th>Frozen</th>\n",
              "      <td>142.0</td>\n",
              "      <td>1652.612676</td>\n",
              "      <td>1812.803662</td>\n",
              "      <td>33.0</td>\n",
              "      <td>534.25</td>\n",
              "      <td>1081.0</td>\n",
              "      <td>2146.75</td>\n",
              "      <td>11559.0</td>\n",
              "    </tr>\n",
              "    <tr>\n",
              "      <th>Detergents_Paper</th>\n",
              "      <td>142.0</td>\n",
              "      <td>7269.507042</td>\n",
              "      <td>6291.089697</td>\n",
              "      <td>332.0</td>\n",
              "      <td>3683.50</td>\n",
              "      <td>5614.5</td>\n",
              "      <td>8662.50</td>\n",
              "      <td>40827.0</td>\n",
              "    </tr>\n",
              "    <tr>\n",
              "      <th>Delicatessen</th>\n",
              "      <td>142.0</td>\n",
              "      <td>1753.436620</td>\n",
              "      <td>1953.797047</td>\n",
              "      <td>3.0</td>\n",
              "      <td>566.75</td>\n",
              "      <td>1350.0</td>\n",
              "      <td>2156.00</td>\n",
              "      <td>16523.0</td>\n",
              "    </tr>\n",
              "  </tbody>\n",
              "</table>\n",
              "</div>\n",
              "      <button class=\"colab-df-convert\" onclick=\"convertToInteractive('df-98a6469c-e142-43d4-b11a-86a3b6d3c241')\"\n",
              "              title=\"Convert this dataframe to an interactive table.\"\n",
              "              style=\"display:none;\">\n",
              "        \n",
              "  <svg xmlns=\"http://www.w3.org/2000/svg\" height=\"24px\"viewBox=\"0 0 24 24\"\n",
              "       width=\"24px\">\n",
              "    <path d=\"M0 0h24v24H0V0z\" fill=\"none\"/>\n",
              "    <path d=\"M18.56 5.44l.94 2.06.94-2.06 2.06-.94-2.06-.94-.94-2.06-.94 2.06-2.06.94zm-11 1L8.5 8.5l.94-2.06 2.06-.94-2.06-.94L8.5 2.5l-.94 2.06-2.06.94zm10 10l.94 2.06.94-2.06 2.06-.94-2.06-.94-.94-2.06-.94 2.06-2.06.94z\"/><path d=\"M17.41 7.96l-1.37-1.37c-.4-.4-.92-.59-1.43-.59-.52 0-1.04.2-1.43.59L10.3 9.45l-7.72 7.72c-.78.78-.78 2.05 0 2.83L4 21.41c.39.39.9.59 1.41.59.51 0 1.02-.2 1.41-.59l7.78-7.78 2.81-2.81c.8-.78.8-2.07 0-2.86zM5.41 20L4 18.59l7.72-7.72 1.47 1.35L5.41 20z\"/>\n",
              "  </svg>\n",
              "      </button>\n",
              "      \n",
              "  <style>\n",
              "    .colab-df-container {\n",
              "      display:flex;\n",
              "      flex-wrap:wrap;\n",
              "      gap: 12px;\n",
              "    }\n",
              "\n",
              "    .colab-df-convert {\n",
              "      background-color: #E8F0FE;\n",
              "      border: none;\n",
              "      border-radius: 50%;\n",
              "      cursor: pointer;\n",
              "      display: none;\n",
              "      fill: #1967D2;\n",
              "      height: 32px;\n",
              "      padding: 0 0 0 0;\n",
              "      width: 32px;\n",
              "    }\n",
              "\n",
              "    .colab-df-convert:hover {\n",
              "      background-color: #E2EBFA;\n",
              "      box-shadow: 0px 1px 2px rgba(60, 64, 67, 0.3), 0px 1px 3px 1px rgba(60, 64, 67, 0.15);\n",
              "      fill: #174EA6;\n",
              "    }\n",
              "\n",
              "    [theme=dark] .colab-df-convert {\n",
              "      background-color: #3B4455;\n",
              "      fill: #D2E3FC;\n",
              "    }\n",
              "\n",
              "    [theme=dark] .colab-df-convert:hover {\n",
              "      background-color: #434B5C;\n",
              "      box-shadow: 0px 1px 3px 1px rgba(0, 0, 0, 0.15);\n",
              "      filter: drop-shadow(0px 1px 2px rgba(0, 0, 0, 0.3));\n",
              "      fill: #FFFFFF;\n",
              "    }\n",
              "  </style>\n",
              "\n",
              "      <script>\n",
              "        const buttonEl =\n",
              "          document.querySelector('#df-98a6469c-e142-43d4-b11a-86a3b6d3c241 button.colab-df-convert');\n",
              "        buttonEl.style.display =\n",
              "          google.colab.kernel.accessAllowed ? 'block' : 'none';\n",
              "\n",
              "        async function convertToInteractive(key) {\n",
              "          const element = document.querySelector('#df-98a6469c-e142-43d4-b11a-86a3b6d3c241');\n",
              "          const dataTable =\n",
              "            await google.colab.kernel.invokeFunction('convertToInteractive',\n",
              "                                                     [key], {});\n",
              "          if (!dataTable) return;\n",
              "\n",
              "          const docLinkHtml = 'Like what you see? Visit the ' +\n",
              "            '<a target=\"_blank\" href=https://colab.research.google.com/notebooks/data_table.ipynb>data table notebook</a>'\n",
              "            + ' to learn more about interactive tables.';\n",
              "          element.innerHTML = '';\n",
              "          dataTable['output_type'] = 'display_data';\n",
              "          await google.colab.output.renderOutput(dataTable, element);\n",
              "          const docLink = document.createElement('div');\n",
              "          docLink.innerHTML = docLinkHtml;\n",
              "          element.appendChild(docLink);\n",
              "        }\n",
              "      </script>\n",
              "    </div>\n",
              "  </div>\n",
              "  "
            ]
          },
          "metadata": {},
          "execution_count": 33
        }
      ],
      "source": [
        "Retail.describe().T"
      ]
    },
    {
      "cell_type": "code",
      "execution_count": null,
      "metadata": {
        "id": "a6026cfa"
      },
      "outputs": [],
      "source": [
        "Hotel.'______' ## Complete the code to perform decriptive analysis"
      ]
    },
    {
      "cell_type": "code",
      "execution_count": null,
      "metadata": {
        "id": "d65f1f99"
      },
      "outputs": [],
      "source": [
        "# Region wise data subset\n",
        "Lisbon = df[df['Region'] == \"______\"]  ## Complete the code to create a temporary dataframe\n",
        "Oporto = df[df['Region'] == \"______\"]  ## Complete the code to create a temporary dataframe\n",
        "Other = df[df['Region'] == \"______\"]  ## Complete the code to create a temporary dataframe"
      ]
    },
    {
      "cell_type": "markdown",
      "metadata": {
        "id": "b7423f4f"
      },
      "source": [
        "**To check the behaivour of the varities, we will do the descriptive analytics**"
      ]
    },
    {
      "cell_type": "code",
      "execution_count": null,
      "metadata": {
        "id": "9e2e2da0"
      },
      "outputs": [],
      "source": [
        "Lisbon.'______'  ## Complete the code to perform decriptive analysis"
      ]
    },
    {
      "cell_type": "code",
      "execution_count": null,
      "metadata": {
        "id": "64ef5c87"
      },
      "outputs": [],
      "source": [
        "Oporto.'_______'  ## Complete the code to perform decriptive analysis"
      ]
    },
    {
      "cell_type": "code",
      "execution_count": null,
      "metadata": {
        "id": "94aa8b9f"
      },
      "outputs": [],
      "source": [
        "Other.'_______'  ## Complete the code to perform decriptive analysis"
      ]
    },
    {
      "cell_type": "markdown",
      "source": [
        "#### Is there any correlation between the different item varieties in terms of spending?"
      ],
      "metadata": {
        "id": "cvnaXouZyr5K"
      }
    },
    {
      "cell_type": "code",
      "source": [
        "sns.color_palette(\"tab10\")\n",
        "plt.figure(figsize=(15,7))\n",
        "mask = np.triu(np.ones_like(df.corr(), dtype=bool))\n",
        "sns.'______'('______',annot = True,mask=mask)"
      ],
      "metadata": {
        "id": "oS7duLtNERkC"
      },
      "execution_count": null,
      "outputs": []
    },
    {
      "cell_type": "markdown",
      "metadata": {
        "id": "c4870c8c"
      },
      "source": [
        "## Conclusions and Recommendations"
      ]
    },
    {
      "cell_type": "markdown",
      "metadata": {
        "id": "7a510894"
      },
      "source": [
        "#### What are your conclusions from the analysis? What recommendations would you like to share to help improve the business?"
      ]
    },
    {
      "cell_type": "markdown",
      "metadata": {
        "id": "f6e605b7"
      },
      "source": [
        "#### Conclusions:\n",
        "*  "
      ]
    },
    {
      "cell_type": "markdown",
      "metadata": {
        "id": "a8edf769"
      },
      "source": [
        "#### Recommendations:\n",
        "*  "
      ]
    },
    {
      "cell_type": "markdown",
      "metadata": {
        "id": "24de85b7"
      },
      "source": [
        "# Problem Statement 2 - Education - Post 12th Standard"
      ]
    },
    {
      "cell_type": "markdown",
      "source": [
        "### Objective"
      ],
      "metadata": {
        "id": "g5u_MvqAk5qt"
      }
    },
    {
      "cell_type": "markdown",
      "source": [
        "The objective of this analysis is to gain insights into the characteristics of colleges and answer key questions related to the educational landscape. By understanding the data, we aim to inform strategies for improving the quality of education and enhancing the overall college experience. The analysis will provide valuable insights and recommendations for stakeholders in the education sector."
      ],
      "metadata": {
        "id": "AkBTckJYk3PD"
      }
    },
    {
      "cell_type": "markdown",
      "metadata": {
        "id": "da634d63"
      },
      "source": [
        "### Data Description"
      ]
    },
    {
      "cell_type": "markdown",
      "metadata": {
        "id": "b37625d8"
      },
      "source": [
        "*  Names: Names of various university and colleges\n",
        "*  Apps: Number of applications received\n",
        "*  Accept: Number of applications accepted\n",
        "*  Enroll: Number of new students enrolled\n",
        "*  Top10perc: Percentage of new students from top 10% of Higher Secondary class\n",
        "*  Top25perc: Percentage of new students from top 25% of Higher Secondary class\n",
        "*  F.Undergrad: Number of full-time undergraduate students\n",
        "*  P.Undergrad: Number of part-time undergraduate students\n",
        "*  Outstate: Number of students for whom the particular college or university is Out-of-state tuition\n",
        "*  Room.Board: Cost of Room and board\n",
        "*  Books: Estimated book costs for a student\n",
        "*  Personal: Estimated personal spending for a student\n",
        "*  PhD: Percentage of faculties with Ph.D.’s\n",
        "*  Terminal: Percentage of faculties with terminal degree\n",
        "*  S.F.Ratio: Student/faculty ratio\n",
        "*  perc.alumni: Percentage of alumni who donate\n",
        "*  Expend: The Instructional expenditure per student\n",
        "*  Grad.Rate: Graduation rate"
      ]
    },
    {
      "cell_type": "markdown",
      "metadata": {
        "id": "0def849d"
      },
      "source": [
        "## Let us start by importing the required libraries"
      ]
    },
    {
      "cell_type": "code",
      "execution_count": null,
      "metadata": {
        "id": "2c0ddeb9"
      },
      "outputs": [],
      "source": [
        "import numpy as np\n",
        "import pandas as pd\n",
        "import seaborn as sns\n",
        "import matplotlib.pyplot as plt\n",
        "pd.options.display.float_format = '{:.2f}'.format"
      ]
    },
    {
      "cell_type": "markdown",
      "metadata": {
        "id": "7c9b7ed8"
      },
      "source": [
        "## Understanding the structure of the data"
      ]
    },
    {
      "cell_type": "code",
      "execution_count": null,
      "metadata": {
        "id": "473f72c1"
      },
      "outputs": [],
      "source": [
        "# Read the data\n",
        "df = pd.read_csv('_______') ## Fill the blank to read the data\n",
        "# Returns the first 5 rows\n",
        "df.head()"
      ]
    },
    {
      "cell_type": "markdown",
      "metadata": {
        "id": "7e5724ab"
      },
      "source": [
        "#### How many rows and columns are present in the data?"
      ]
    },
    {
      "cell_type": "code",
      "execution_count": null,
      "metadata": {
        "id": "f7a66050"
      },
      "outputs": [],
      "source": [
        "# Check the shape of the dataset\n",
        "df.'_______' ## Fill in the blank"
      ]
    },
    {
      "cell_type": "markdown",
      "metadata": {
        "id": "442a6593"
      },
      "source": [
        "####  What are the datatypes of the different columns in the dataset?"
      ]
    },
    {
      "cell_type": "code",
      "execution_count": null,
      "metadata": {
        "id": "7e9cf8d5"
      },
      "outputs": [],
      "source": [
        "df.'____'"
      ]
    },
    {
      "cell_type": "markdown",
      "metadata": {
        "id": "6112006e"
      },
      "source": [
        "#### Are there any missing values in the data?"
      ]
    },
    {
      "cell_type": "code",
      "execution_count": null,
      "metadata": {
        "id": "ce3bc7a9"
      },
      "outputs": [],
      "source": [
        "# Checking for missing values in the data\n",
        "df.'______'  #Write the appropriate function to print the sum of null values for each column"
      ]
    },
    {
      "cell_type": "markdown",
      "metadata": {
        "id": "0045b94d"
      },
      "source": [
        "#### Check the statistical summary of the data.Which Region and which Channel seems to be spend more? Which Region and which Channel seems to spend less?"
      ]
    },
    {
      "cell_type": "code",
      "execution_count": null,
      "metadata": {
        "id": "4d7cf50b"
      },
      "outputs": [],
      "source": [
        "# Get the summary statistics of the numerical data\n",
        "df.'_______'.T ## Write the appropriate function to print the statistical summary of the data (Hint - you have seen this in the case studies before)"
      ]
    },
    {
      "cell_type": "markdown",
      "metadata": {
        "id": "a5ba9c26"
      },
      "source": [
        "#### Drop the column which does not exhibit any value"
      ]
    },
    {
      "cell_type": "code",
      "execution_count": null,
      "metadata": {
        "id": "cb87b9df"
      },
      "outputs": [],
      "source": [
        "#Now drop the irrelevant column\n",
        "data.drop('____',axis=1, inplace=True) ## Complete the code to drop the column"
      ]
    },
    {
      "cell_type": "markdown",
      "metadata": {
        "id": "eb0bdeda"
      },
      "source": [
        "## Exploratory Data Analysis (EDA)"
      ]
    },
    {
      "cell_type": "markdown",
      "metadata": {
        "id": "8931457f"
      },
      "source": [
        "### Univariate Analysis"
      ]
    },
    {
      "cell_type": "code",
      "execution_count": null,
      "metadata": {
        "id": "072df918"
      },
      "outputs": [],
      "source": [
        "cont_cols = list(df.'______')\n",
        "for col in cont_cols:\n",
        "    print(col)\n",
        "    print('Skew :',round(df[col].'____',2))\n",
        "    plt.figure(figsize=(15,4))\n",
        "    plt.subplot(1,2,1)\n",
        "    df[col].'____'(bins=10,edgecolor='#E6E6E6', color='Maroon')  #Complete the code to create a histogram\n",
        "    plt.vlines(df[col].'____'(),ymin = 0, ymax = 40,color = 'Yellow')  #Complete the code to find the mean\n",
        "    plt.vlines(df[col].'_____'(),ymin = 0, ymax = 40,color = 'White')  #Complete the code to find the median\n",
        "    plt.ylabel('count')\n",
        "    plt.subplot(1,2,2)\n",
        "    sns.boxplot(df[col],color='Cyan')\n",
        "        plt.savefig('{}_PLOT.png'.format(col))\n",
        "    plt.show()"
      ]
    },
    {
      "cell_type": "code",
      "execution_count": null,
      "metadata": {
        "id": "15e33ce5"
      },
      "outputs": [],
      "source": [
        "data_scatter = df.copy(deep=True)\n",
        "fig, axes = plt.subplots(nrows=4, ncols=5, figsize=(20, 20))\n",
        "\n",
        "for i, col in enumerate(data_scatter.columns):\n",
        "    ax = axes[i // 5, i % 5]\n",
        "    sns.'_____'(data_scatter[col], bins=20, color='Blue', ax=ax, kde='___') # Complete the code to show the distribution\n",
        "    ax.set_title(col, color='DarkRed')\n",
        "\n",
        "plt.tight_layout()"
      ]
    },
    {
      "cell_type": "code",
      "execution_count": null,
      "metadata": {
        "id": "aba5bc3b"
      },
      "outputs": [],
      "source": [
        "\n",
        "data_scatter=df.copy(deep=True)\n",
        "fig=plt.figure(figsize=(20,20))\n",
        "for i in range(0,len(data_scatter.columns)):\n",
        "    ax=fig.add_subplot(4,5,i+1)\n",
        "    sns.'_____'(data_scatter[data_scatter.columns[i]],color= 'Cyan') ## Complete the code to build boxplot\n",
        "    ax.set_title(data_scatter.columns[i],color='Black')\n",
        "plt.tight_layout()"
      ]
    },
    {
      "cell_type": "markdown",
      "metadata": {
        "id": "556c1575"
      },
      "source": [
        "### Bivariate Analysis"
      ]
    },
    {
      "cell_type": "code",
      "execution_count": null,
      "metadata": {
        "id": "873e2081"
      },
      "outputs": [],
      "source": [
        "sns.color_palette(\"pastel\")\n",
        "\n",
        "cont_cols = list(df.columns)\n",
        "for col in range(1, len(cont_cols)):\n",
        "    print(cont_cols[col], 'vs', cont_cols[col-1])\n",
        "    plt.figure(figsize=(15, 4))\n",
        "    plt.subplot(1, 2, 1)\n",
        "    sns.'________'(x=df[cont_cols[col]], y=df[cont_cols[col-1]]) ## Complete the code to build a scatterplot\n",
        "    plt.subplot(1, 2, 2)\n",
        "    sns.'_______'(np.corrcoef(df[cont_cols[col]], df[cont_cols[col-1]]), annot=True,\n",
        "                yticklabels=[cont_cols[col], cont_cols[col-1]], xticklabels=[cont_cols[col], cont_cols[col-1]],\n",
        "                cmap='BuPu', cbar=False) ## Complete the code to build a heatmap\n",
        "    plt.show()"
      ]
    },
    {
      "cell_type": "markdown",
      "metadata": {
        "id": "c3c1e236"
      },
      "source": [
        "#### Is there any correlation between the columns?"
      ]
    },
    {
      "cell_type": "code",
      "execution_count": null,
      "metadata": {
        "id": "7891ff7a"
      },
      "outputs": [],
      "source": [
        "sns.color_palette(\"tab10\")\n",
        "plt.figure(figsize=(15,7))\n",
        "mask = np.triu(np.ones_like(df.corr(), dtype=bool))\n",
        "sns.'_____'(df.'____'(),annot = True,mask=mask) ## Complete the code to show the correrlation using heatmap"
      ]
    },
    {
      "cell_type": "markdown",
      "metadata": {
        "id": "9bb98e6f"
      },
      "source": [
        "## Conclusions and Recommendations"
      ]
    },
    {
      "cell_type": "markdown",
      "metadata": {
        "id": "dbdf8f06"
      },
      "source": [
        "#### Conclusions:\n",
        "*  "
      ]
    },
    {
      "cell_type": "markdown",
      "metadata": {
        "id": "67874ee5"
      },
      "source": [
        "#### Recommendations:\n",
        "*  "
      ]
    },
    {
      "cell_type": "markdown",
      "source": [
        "___"
      ],
      "metadata": {
        "id": "0PoN7OLcAN8r"
      }
    }
  ]
}